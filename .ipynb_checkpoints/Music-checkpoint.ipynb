{
 "cells": [
  {
   "cell_type": "markdown",
   "id": "06d70a1f",
   "metadata": {},
   "source": [
    "# Intro\n",
    "\n",
    "### This project generates the music using LSTM enural networks\n",
    "\n",
    "We learn the notes based on mozart musics while you can change it from any other musicians available in the provided dataset your musicians/musics. Feel free to update dataset input files based on your prefrences"
   ]
  },
  {
   "cell_type": "code",
   "execution_count": 1,
   "id": "fd655360",
   "metadata": {},
   "outputs": [
    {
     "name": "stderr",
     "output_type": "stream",
     "text": [
      "<frozen importlib._bootstrap>:219: RuntimeWarning: scipy._lib.messagestream.MessageStream size changed, may indicate binary incompatibility. Expected 56 from C header, got 64 from PyObject\n"
     ]
    }
   ],
   "source": [
    "import numpy as np # linear algebra\n",
    "import os\n",
    "\n",
    "#Importing Libraries\n",
    "import tensorflow \n",
    "import numpy as np \n",
    "from collections import Counter\n",
    "import random\n",
    "import IPython\n",
    "from IPython.display import Image, Audio\n",
    "import music21\n",
    "from music21 import *\n",
    "import matplotlib.pyplot as plt \n",
    "from sklearn.model_selection import train_test_split\n",
    "from tensorflow.keras.models import Sequential\n",
    "from tensorflow.keras.layers import LSTM, Dense, Dropout\n",
    "import tensorflow.keras.backend as K\n",
    "from tensorflow.keras.optimizers import Adamax\n",
    "import matplotlib.pyplot as plt\n",
    "import matplotlib.patches as mpatches\n",
    "%matplotlib inline\n",
    "\n",
    "np.random.seed(28)\n"
   ]
  },
  {
   "cell_type": "code",
   "execution_count": 6,
   "id": "a2855fff",
   "metadata": {},
   "outputs": [
    {
     "name": "stderr",
     "output_type": "stream",
     "text": [
      "D:\\Apps\\Anaconda\\lib\\site-packages\\music21\\midi\\translate.py:863: TranslateWarning: Unable to determine instrument from <music21.midi.MidiEvent SEQUENCE_TRACK_NAME, track=5, channel=None, data=b'Copyright \\xa9 2006 by Bernd Kr\\xfcger'>; getting generic Instrument\n",
      "  warnings.warn(\n",
      "D:\\Apps\\Anaconda\\lib\\site-packages\\music21\\midi\\translate.py:863: TranslateWarning: Unable to determine instrument from <music21.midi.MidiEvent SEQUENCE_TRACK_NAME, track=5, channel=None, data=b'Copyright \\xa9 1997 by Bernd Kr\\xfcger'>; getting generic Instrument\n",
      "  warnings.warn(\n",
      "D:\\Apps\\Anaconda\\lib\\site-packages\\music21\\midi\\translate.py:863: TranslateWarning: Unable to determine instrument from <music21.midi.MidiEvent SEQUENCE_TRACK_NAME, track=5, channel=None, data=b'Copyright \\xa9 2005 by Bernd Kr\\xfcger'>; getting generic Instrument\n",
      "  warnings.warn(\n",
      "D:\\Apps\\Anaconda\\lib\\site-packages\\music21\\midi\\translate.py:863: TranslateWarning: Unable to determine instrument from <music21.midi.MidiEvent SEQUENCE_TRACK_NAME, track=5, channel=None, data=b'Copyright \\xa9 2006 by Bernd Krueger'>; getting generic Instrument\n",
      "  warnings.warn(\n"
     ]
    }
   ],
   "source": [
    "#Loading dataset\n",
    "directory = \"./dataset/mozart/\"\n",
    "\n",
    "all_midis= []\n",
    "for path in os.listdir(directory):\n",
    "    if path.endswith(\".mid\"):\n",
    "        try:\n",
    "            full_path = directory + path\n",
    "            midi = converter.parse(full_path)\n",
    "            all_midis.append(midi)\n",
    "        except Exception as e:\n",
    "            print(e)"
   ]
  },
  {
   "cell_type": "code",
   "execution_count": 7,
   "id": "54dd81b9",
   "metadata": {},
   "outputs": [
    {
     "name": "stdout",
     "output_type": "stream",
     "text": [
      "Total number of files:  21\n"
     ]
    }
   ],
   "source": [
    "print(\"Total number of files: \", len(all_midis))"
   ]
  },
  {
   "cell_type": "code",
   "execution_count": 9,
   "id": "a18d1462",
   "metadata": {},
   "outputs": [
    {
     "name": "stdout",
     "output_type": "stream",
     "text": [
      "Total notes: 55802\n"
     ]
    }
   ],
   "source": [
    "def extract_notes(midi_file):\n",
    "    notes = []\n",
    "    pick = None\n",
    "    for midi in midi_file:\n",
    "        songs = instrument.partitionByInstrument(midi)\n",
    "        for part in songs.parts:\n",
    "            pick = part.recurse()\n",
    "            for element in pick:\n",
    "                if isinstance(element, note.Note):\n",
    "                    notes.append(str(element.pitch))\n",
    "                elif isinstance(element, chord.Chord):\n",
    "                    notes.append(\".\".join(str(n) for n in element.normalOrder))\n",
    "\n",
    "    return notes\n",
    "\n",
    "notes = extract_notes(all_midis)\n",
    "print(\"Total notes:\", len(notes))\n",
    "\n"
   ]
  },
  {
   "cell_type": "code",
   "execution_count": 10,
   "id": "dc0a8a29",
   "metadata": {},
   "outputs": [
    {
     "name": "stdout",
     "output_type": "stream",
     "text": [
      "First 10 notes:\n",
      " ['2.6.9', '9.2', 'G5', '2.6', 'F#5', 'E5', 'F#5', 'A5', '4.7', 'G5']\n"
     ]
    }
   ],
   "source": [
    "print(\"First 10 notes:\\n\", notes[:10])"
   ]
  },
  {
   "cell_type": "code",
   "execution_count": 11,
   "id": "8da15613",
   "metadata": {},
   "outputs": [],
   "source": [
    "# add lily to the path, change the path directory based on your lily folder\n",
    "# see more detail at:        https://lilypond.org/download.html\n",
    "\n",
    "us = environment.UserSettings()\n",
    "# us.create()\n",
    "us['lilypondPath'] = <<PATH TO YOUR LiLyPond DIRECTORY>>"
   ]
  },
  {
   "cell_type": "code",
   "execution_count": 12,
   "id": "17afcb1b",
   "metadata": {},
   "outputs": [],
   "source": [
    "def chords_n_notes(Snippet):\n",
    "    Melody = []\n",
    "    offset = 0 #Incremental\n",
    "    for i in Snippet:\n",
    "        #If it is chord\n",
    "        if (\".\" in i or i.isdigit()):\n",
    "            chord_notes = i.split(\".\") #Seperating the notes in chord\n",
    "            notes = [] \n",
    "            for j in chord_notes:\n",
    "                inst_note=int(j)\n",
    "                note_snip = note.Note(inst_note)            \n",
    "                notes.append(note_snip)\n",
    "                chord_snip = chord.Chord(notes)\n",
    "                chord_snip.offset = offset\n",
    "                Melody.append(chord_snip)\n",
    "        # pattern is a note\n",
    "        else: \n",
    "            note_snip = note.Note(i)\n",
    "            note_snip.offset = offset\n",
    "            Melody.append(note_snip)\n",
    "        # increase offset each iteration so that notes do not stack\n",
    "        offset += 1\n",
    "    Melody_midi = stream.Stream(Melody)   \n",
    "    return Melody_midi\n",
    "\n",
    "Melody_Snippet = chords_n_notes(notes[:100])"
   ]
  },
  {
   "cell_type": "code",
   "execution_count": 13,
   "id": "e4a9e378",
   "metadata": {},
   "outputs": [
    {
     "name": "stdout",
     "output_type": "stream",
     "text": [
      "Total unique notes: 229\n"
     ]
    }
   ],
   "source": [
    "count_num = Counter(notes)\n",
    "print(\"Total unique notes:\", len(count_num))"
   ]
  },
  {
   "cell_type": "code",
   "execution_count": 34,
   "id": "5462a128",
   "metadata": {},
   "outputs": [
    {
     "name": "stdout",
     "output_type": "stream",
     "text": [
      "Average recurrenc for a note in notes: 243.6768558951965\n",
      "Most frequent note in notes appeared: 2355 times\n",
      "Least frequent note in notes appeared: 1 time\n"
     ]
    }
   ],
   "source": [
    "Notes = list(count_num.keys())\n",
    "Recurrence = list(count_num.values())\n",
    "#Average recurrenc for a note in notes\n",
    "def Average(lst):\n",
    "    return sum(lst) / len(lst)\n",
    "print(\"Average recurrenc for a note in notes:\", Average(Recurrence))\n",
    "print(\"Most frequent note in notes appeared:\", max(Recurrence), \"times\")\n",
    "print(\"Least frequent note in notes appeared:\", min(Recurrence), \"time\")"
   ]
  },
  {
   "cell_type": "code",
   "execution_count": 35,
   "id": "dad519ea",
   "metadata": {},
   "outputs": [
    {
     "data": {
      "image/png": "[encoded data removed]",
      "text/plain": [
       "<Figure size 1296x216 with 1 Axes>"
      ]
     },
     "metadata": {
      "image/png": {
       "height": 222,
       "width": 1058
      }
     },
     "output_type": "display_data"
    }
   ],
   "source": [
    "# Plotting the distribution of Notes\n",
    "plt.figure(figsize=(18,3),facecolor=\"#97BACB\")\n",
    "bins = np.arange(0,(max(Recurrence)), 50) \n",
    "plt.hist(Recurrence, bins=bins, color=\"#97BACB\")\n",
    "plt.axvline(x=100,color=\"#DBACC1\")\n",
    "plt.title(\"Frequency Distribution Of Notes In The notes\")\n",
    "plt.xlabel(\"Frequency Of Chords in notes\")\n",
    "plt.ylabel(\"Number Of Chords\")\n",
    "plt.show()"
   ]
  },
  {
   "cell_type": "code",
   "execution_count": 36,
   "id": "af907d72",
   "metadata": {},
   "outputs": [
    {
     "name": "stdout",
     "output_type": "stream",
     "text": [
      "Total number of notes that occur less than 100 times: 145\n"
     ]
    }
   ],
   "source": [
    "rare_note = []\n",
    "for index, (key, value) in enumerate(count_num.items()):\n",
    "    if value < 100:\n",
    "        m =  key\n",
    "        rare_note.append(m)\n",
    "        \n",
    "print(\"Total number of notes that occur less than 100 times:\", len(rare_note))"
   ]
  },
  {
   "cell_type": "code",
   "execution_count": 37,
   "id": "2d5b70e6",
   "metadata": {},
   "outputs": [
    {
     "name": "stdout",
     "output_type": "stream",
     "text": [
      "Length of cleaned notes 52756\n"
     ]
    }
   ],
   "source": [
    "for element in notes:\n",
    "    if element in rare_note:\n",
    "        notes.remove(element)\n",
    "\n",
    "print(\"Length of cleaned notes\", len(notes))"
   ]
  },
  {
   "cell_type": "code",
   "execution_count": 38,
   "id": "af6960fe",
   "metadata": {},
   "outputs": [
    {
     "name": "stdout",
     "output_type": "stream",
     "text": [
      "Total number of characters: 52756\n",
      "Number of unique characters: 107\n"
     ]
    }
   ],
   "source": [
    "# Storing all the unique characters present in my notes to bult a mapping dic. \n",
    "symb = sorted(list(set(notes)))\n",
    "\n",
    "L_notes = len(notes) #length of notes\n",
    "L_symb = len(symb) #length of total unique characters\n",
    "\n",
    "#Building dictionary to access the vocabulary from indices and vice versa\n",
    "mapping = dict((c, i) for i, c in enumerate(symb))\n",
    "reverse_mapping = dict((i, c) for i, c in enumerate(symb))\n",
    "\n",
    "print(\"Total number of characters:\", L_notes)\n",
    "print(\"Number of unique characters:\", L_symb)"
   ]
  },
  {
   "cell_type": "code",
   "execution_count": 39,
   "id": "610c5e50",
   "metadata": {},
   "outputs": [
    {
     "name": "stdout",
     "output_type": "stream",
     "text": [
      "Total number of sequences in the notes: 52716\n"
     ]
    }
   ],
   "source": [
    "length = 40\n",
    "features = []\n",
    "targets = []\n",
    "for i in range(0, L_notes - length, 1):\n",
    "    feature = notes[i:i + length]\n",
    "    target = notes[i + length]\n",
    "    features.append([mapping[j] for j in feature])\n",
    "    targets.append(mapping[target])\n",
    "    \n",
    "    \n",
    "L_datapoints = len(targets)\n",
    "print(\"Total number of sequences in the notes:\", L_datapoints)"
   ]
  },
  {
   "cell_type": "code",
   "execution_count": 40,
   "id": "d0834328",
   "metadata": {},
   "outputs": [
    {
     "data": {
      "text/plain": [
       "52716"
      ]
     },
     "execution_count": 40,
     "metadata": {},
     "output_type": "execute_result"
    }
   ],
   "source": [
    "L_datapoints"
   ]
  },
  {
   "cell_type": "code",
   "execution_count": 41,
   "id": "40ad15dd",
   "metadata": {},
   "outputs": [],
   "source": [
    "# reshape X and normalize\n",
    "X = (np.reshape(features, (L_datapoints, length, 1)))/ float(L_symb)\n",
    "# one hot encode the output variable\n",
    "y = tensorflow.keras.utils.to_categorical(targets) "
   ]
  },
  {
   "cell_type": "code",
   "execution_count": 42,
   "id": "c8c0f30a",
   "metadata": {},
   "outputs": [],
   "source": [
    "#Taking out a subset of data to be used as seed\n",
    "X_train, X_seed, y_train, y_seed = train_test_split(X, y, test_size=0.2, random_state=42)"
   ]
  },
  {
   "cell_type": "code",
   "execution_count": 43,
   "id": "edb87dcd",
   "metadata": {},
   "outputs": [],
   "source": [
    "#Initialising the Model\n",
    "model = Sequential()\n",
    "#Adding layers\n",
    "model.add(LSTM(512, input_shape=(X.shape[1], X.shape[2]), return_sequences=True))\n",
    "model.add(Dropout(0.1))\n",
    "model.add(LSTM(256))\n",
    "model.add(Dense(256))\n",
    "model.add(Dropout(0.1))\n",
    "model.add(Dense(y.shape[1], activation='softmax'))\n",
    "#Compiling the model for training  \n",
    "opt = Adamax(learning_rate=0.01)\n",
    "model.compile(loss='categorical_crossentropy', optimizer=opt)"
   ]
  },
  {
   "cell_type": "code",
   "execution_count": 44,
   "id": "09f991b8",
   "metadata": {},
   "outputs": [
    {
     "name": "stdout",
     "output_type": "stream",
     "text": [
      "Model: \"sequential_1\"\n",
      "_________________________________________________________________\n",
      " Layer (type)                Output Shape              Param #   \n",
      "=================================================================\n",
      " lstm_2 (LSTM)               (None, 40, 512)           1052672   \n",
      "                                                                 \n",
      " dropout_2 (Dropout)         (None, 40, 512)           0         \n",
      "                                                                 \n",
      " lstm_3 (LSTM)               (None, 256)               787456    \n",
      "                                                                 \n",
      " dense_2 (Dense)             (None, 256)               65792     \n",
      "                                                                 \n",
      " dropout_3 (Dropout)         (None, 256)               0         \n",
      "                                                                 \n",
      " dense_3 (Dense)             (None, 107)               27499     \n",
      "                                                                 \n",
      "=================================================================\n",
      "Total params: 1933419 (7.38 MB)\n",
      "Trainable params: 1933419 (7.38 MB)\n",
      "Non-trainable params: 0 (0.00 Byte)\n",
      "_________________________________________________________________\n"
     ]
    }
   ],
   "source": [
    "model.summary()"
   ]
  },
  {
   "cell_type": "code",
   "execution_count": 45,
   "id": "7d158022",
   "metadata": {},
   "outputs": [
    {
     "name": "stdout",
     "output_type": "stream",
     "text": [
      "Num GPUs Available:  0\n"
     ]
    }
   ],
   "source": [
    "# try to switch to GPU is available\n",
    "physical_devices = tensorflow.config.list_physical_devices('GPU')\n",
    "print(\"Num GPUs Available: \", len(physical_devices))"
   ]
  },
  {
   "cell_type": "code",
   "execution_count": 46,
   "id": "5841681b",
   "metadata": {},
   "outputs": [],
   "source": [
    "# Set to use the first GPU (if available)\n",
    "gpus = tensorflow.config.list_physical_devices('GPU')\n",
    "if gpus:\n",
    "    try:\n",
    "        tensorflow.config.experimental.set_visible_devices(gpus[0], 'GPU')\n",
    "    except RuntimeError as e:\n",
    "        print(e)"
   ]
  },
  {
   "cell_type": "code",
   "execution_count": 35,
   "id": "3d6e4737",
   "metadata": {},
   "outputs": [
    {
     "name": "stdout",
     "output_type": "stream",
     "text": [
      "Epoch 1/100\n",
      "166/166 [==============================] - 106s 625ms/step - loss: 4.1548\n",
      "Epoch 2/100\n",
      "166/166 [==============================] - 106s 640ms/step - loss: 4.0793\n",
      "Epoch 3/100\n",
      "166/166 [==============================] - 106s 637ms/step - loss: 4.0750\n",
      "Epoch 4/100\n",
      "166/166 [==============================] - 106s 636ms/step - loss: 4.0718\n",
      "Epoch 5/100\n",
      "166/166 [==============================] - 106s 640ms/step - loss: 4.0693\n",
      "Epoch 6/100\n",
      "166/166 [==============================] - 105s 635ms/step - loss: 4.0676\n",
      "Epoch 7/100\n",
      "166/166 [==============================] - 105s 633ms/step - loss: 4.0657\n",
      "Epoch 8/100\n",
      "166/166 [==============================] - 106s 637ms/step - loss: 4.0651\n",
      "Epoch 9/100\n",
      "166/166 [==============================] - 105s 635ms/step - loss: 4.0638\n",
      "Epoch 10/100\n",
      "166/166 [==============================] - 108s 650ms/step - loss: 4.0642\n",
      "Epoch 11/100\n",
      "166/166 [==============================] - 105s 634ms/step - loss: 4.0602\n",
      "Epoch 12/100\n",
      "166/166 [==============================] - 105s 634ms/step - loss: 4.0261\n",
      "Epoch 13/100\n",
      "166/166 [==============================] - 106s 636ms/step - loss: 3.9949\n",
      "Epoch 14/100\n",
      "166/166 [==============================] - 106s 638ms/step - loss: 3.9797\n",
      "Epoch 15/100\n",
      "166/166 [==============================] - 105s 633ms/step - loss: 3.9745\n",
      "Epoch 16/100\n",
      "166/166 [==============================] - 105s 635ms/step - loss: 3.9627\n",
      "Epoch 17/100\n",
      "166/166 [==============================] - 106s 641ms/step - loss: 3.9514\n",
      "Epoch 18/100\n",
      "166/166 [==============================] - 105s 634ms/step - loss: 3.9338\n",
      "Epoch 19/100\n",
      "166/166 [==============================] - 105s 635ms/step - loss: 3.9107\n",
      "Epoch 20/100\n",
      "166/166 [==============================] - 106s 636ms/step - loss: 3.8832\n",
      "Epoch 21/100\n",
      "166/166 [==============================] - 105s 635ms/step - loss: 3.8643\n",
      "Epoch 22/100\n",
      "166/166 [==============================] - 106s 637ms/step - loss: 3.8390\n",
      "Epoch 23/100\n",
      "166/166 [==============================] - 106s 637ms/step - loss: 3.8002\n",
      "Epoch 24/100\n",
      "166/166 [==============================] - 106s 637ms/step - loss: 3.7518\n",
      "Epoch 25/100\n",
      "166/166 [==============================] - 106s 639ms/step - loss: 3.6964\n",
      "Epoch 26/100\n",
      "166/166 [==============================] - 106s 638ms/step - loss: 3.6167\n",
      "Epoch 27/100\n",
      "166/166 [==============================] - 106s 636ms/step - loss: 3.5079\n",
      "Epoch 28/100\n",
      "166/166 [==============================] - 107s 644ms/step - loss: 3.3897\n",
      "Epoch 29/100\n",
      "166/166 [==============================] - 106s 636ms/step - loss: 3.2402\n",
      "Epoch 30/100\n",
      "166/166 [==============================] - 106s 639ms/step - loss: 3.0895\n",
      "Epoch 31/100\n",
      "166/166 [==============================] - 106s 641ms/step - loss: 2.9322\n",
      "Epoch 32/100\n",
      "166/166 [==============================] - 106s 638ms/step - loss: 2.7552\n",
      "Epoch 33/100\n",
      "166/166 [==============================] - 106s 639ms/step - loss: 2.6109\n",
      "Epoch 34/100\n",
      "166/166 [==============================] - 106s 638ms/step - loss: 2.4355\n",
      "Epoch 35/100\n",
      "166/166 [==============================] - 106s 639ms/step - loss: 2.2767\n",
      "Epoch 36/100\n",
      "166/166 [==============================] - 106s 636ms/step - loss: 2.1279\n",
      "Epoch 37/100\n",
      "166/166 [==============================] - 106s 636ms/step - loss: 1.9826\n",
      "Epoch 38/100\n",
      "166/166 [==============================] - 105s 635ms/step - loss: 1.8588\n",
      "Epoch 39/100\n",
      "166/166 [==============================] - 106s 636ms/step - loss: 1.7446\n",
      "Epoch 40/100\n",
      "166/166 [==============================] - 106s 638ms/step - loss: 1.6244\n",
      "Epoch 41/100\n",
      "166/166 [==============================] - 106s 636ms/step - loss: 1.5242\n",
      "Epoch 42/100\n",
      "166/166 [==============================] - 106s 638ms/step - loss: 1.4327\n",
      "Epoch 43/100\n",
      "166/166 [==============================] - 105s 635ms/step - loss: 1.3375\n",
      "Epoch 44/100\n",
      "166/166 [==============================] - 106s 637ms/step - loss: 1.2572\n",
      "Epoch 45/100\n",
      "166/166 [==============================] - 106s 637ms/step - loss: 1.1852\n",
      "Epoch 46/100\n",
      "166/166 [==============================] - 106s 638ms/step - loss: 1.1105\n",
      "Epoch 47/100\n",
      "166/166 [==============================] - 106s 638ms/step - loss: 1.0416\n",
      "Epoch 48/100\n",
      "166/166 [==============================] - 106s 639ms/step - loss: 0.9697\n",
      "Epoch 49/100\n",
      "166/166 [==============================] - 106s 636ms/step - loss: 0.9274\n",
      "Epoch 50/100\n",
      "166/166 [==============================] - 106s 636ms/step - loss: 0.8606\n",
      "Epoch 51/100\n",
      "166/166 [==============================] - 108s 651ms/step - loss: 0.8195\n",
      "Epoch 52/100\n",
      "166/166 [==============================] - 105s 635ms/step - loss: 0.7690\n",
      "Epoch 53/100\n",
      "166/166 [==============================] - 106s 640ms/step - loss: 0.7222\n",
      "Epoch 54/100\n",
      "166/166 [==============================] - 106s 639ms/step - loss: 0.6814\n",
      "Epoch 55/100\n",
      "166/166 [==============================] - 106s 639ms/step - loss: 0.6412\n",
      "Epoch 56/100\n",
      "166/166 [==============================] - 106s 636ms/step - loss: 0.6014\n",
      "Epoch 57/100\n",
      "166/166 [==============================] - 106s 636ms/step - loss: 0.5728\n",
      "Epoch 58/100\n",
      "166/166 [==============================] - 108s 651ms/step - loss: 0.5293\n",
      "Epoch 59/100\n",
      "166/166 [==============================] - 106s 639ms/step - loss: 0.5233\n",
      "Epoch 60/100\n",
      "166/166 [==============================] - 106s 637ms/step - loss: 0.4770\n",
      "Epoch 61/100\n",
      "166/166 [==============================] - 105s 635ms/step - loss: 0.4607\n",
      "Epoch 62/100\n",
      "166/166 [==============================] - 106s 639ms/step - loss: 0.4347\n",
      "Epoch 63/100\n",
      "166/166 [==============================] - 106s 638ms/step - loss: 0.4249\n",
      "Epoch 64/100\n",
      "166/166 [==============================] - 106s 636ms/step - loss: 0.4038\n",
      "Epoch 65/100\n",
      "166/166 [==============================] - 106s 637ms/step - loss: 0.3937\n",
      "Epoch 66/100\n",
      "166/166 [==============================] - 106s 636ms/step - loss: 0.3455\n",
      "Epoch 67/100\n",
      "166/166 [==============================] - 106s 636ms/step - loss: 0.3591\n",
      "Epoch 68/100\n",
      "166/166 [==============================] - 105s 635ms/step - loss: 0.3290\n",
      "Epoch 69/100\n",
      "166/166 [==============================] - 106s 640ms/step - loss: 0.3232\n",
      "Epoch 70/100\n",
      "166/166 [==============================] - 106s 637ms/step - loss: 0.3307\n",
      "Epoch 71/100\n",
      "166/166 [==============================] - 105s 635ms/step - loss: 0.2974\n",
      "Epoch 72/100\n",
      "166/166 [==============================] - 106s 637ms/step - loss: 0.2718\n",
      "Epoch 73/100\n",
      "166/166 [==============================] - 105s 635ms/step - loss: 0.2705\n",
      "Epoch 74/100\n",
      "166/166 [==============================] - 106s 636ms/step - loss: 0.2720\n",
      "Epoch 75/100\n",
      "166/166 [==============================] - 105s 633ms/step - loss: 0.2570\n",
      "Epoch 76/100\n",
      "166/166 [==============================] - 105s 635ms/step - loss: 0.2637\n",
      "Epoch 77/100\n",
      "166/166 [==============================] - 105s 635ms/step - loss: 0.2506\n",
      "Epoch 78/100\n",
      "166/166 [==============================] - 105s 634ms/step - loss: 0.2214\n",
      "Epoch 79/100\n",
      "166/166 [==============================] - 105s 634ms/step - loss: 0.2430\n",
      "Epoch 80/100\n",
      "166/166 [==============================] - 105s 634ms/step - loss: 0.2173\n",
      "Epoch 81/100\n",
      "166/166 [==============================] - 106s 637ms/step - loss: 0.2290\n",
      "Epoch 82/100\n",
      "166/166 [==============================] - 106s 640ms/step - loss: 0.2177\n",
      "Epoch 83/100\n",
      "166/166 [==============================] - 105s 635ms/step - loss: 0.2228\n",
      "Epoch 84/100\n",
      "166/166 [==============================] - 105s 635ms/step - loss: 0.2053\n",
      "Epoch 85/100\n",
      "166/166 [==============================] - 107s 647ms/step - loss: 0.2120\n",
      "Epoch 86/100\n",
      "166/166 [==============================] - 106s 637ms/step - loss: 0.1967\n",
      "Epoch 87/100\n",
      "166/166 [==============================] - 106s 636ms/step - loss: 0.1880\n",
      "Epoch 88/100\n",
      "166/166 [==============================] - 106s 638ms/step - loss: 0.1915\n",
      "Epoch 89/100\n",
      "166/166 [==============================] - 106s 637ms/step - loss: 0.1794\n",
      "Epoch 90/100\n",
      "166/166 [==============================] - 105s 635ms/step - loss: 0.1885\n",
      "Epoch 91/100\n",
      "166/166 [==============================] - 105s 636ms/step - loss: 0.1668\n",
      "Epoch 92/100\n",
      "166/166 [==============================] - 107s 648ms/step - loss: 0.1745\n",
      "Epoch 93/100\n",
      "166/166 [==============================] - 111s 668ms/step - loss: 0.1711\n",
      "Epoch 94/100\n",
      "166/166 [==============================] - 107s 644ms/step - loss: 0.1793\n",
      "Epoch 95/100\n",
      "166/166 [==============================] - 106s 636ms/step - loss: 0.1661\n",
      "Epoch 96/100\n",
      "166/166 [==============================] - 106s 638ms/step - loss: 0.1475\n",
      "Epoch 97/100\n",
      "166/166 [==============================] - 106s 636ms/step - loss: 0.1701\n",
      "Epoch 98/100\n",
      "166/166 [==============================] - 105s 635ms/step - loss: 0.1598\n",
      "Epoch 99/100\n",
      "166/166 [==============================] - 106s 640ms/step - loss: 0.1677\n",
      "Epoch 100/100\n",
      "166/166 [==============================] - 106s 636ms/step - loss: 0.1467\n"
     ]
    }
   ],
   "source": [
    "#Training the Model\n",
    "history = model.fit(X_train, y_train, batch_size=256, epochs=100)\n"
   ]
  },
  {
   "cell_type": "code",
   "execution_count": 36,
   "id": "b2039f03",
   "metadata": {},
   "outputs": [],
   "source": [
    "def Malody_Generator(Note_Count):\n",
    "    seed = X_seed[np.random.randint(0,len(X_seed)-1)]\n",
    "    Music = \"\"\n",
    "    Notes_Generated=[]\n",
    "    for i in range(Note_Count):\n",
    "        seed = seed.reshape(1,length,1)\n",
    "        prediction = model.predict(seed, verbose=0)[0]\n",
    "        prediction = np.log(prediction) / 1.0 #diversity\n",
    "        exp_preds = np.exp(prediction)\n",
    "        prediction = exp_preds / np.sum(exp_preds)\n",
    "        index = np.argmax(prediction)\n",
    "        index_N = index/ float(L_symb)   \n",
    "        Notes_Generated.append(index)\n",
    "        Music = [reverse_mapping[char] for char in Notes_Generated]\n",
    "        seed = np.insert(seed[0],len(seed[0]),index_N)\n",
    "        seed = seed[1:]\n",
    "    #Now, we have music in form or a list of chords and notes and we want to be a midi file.\n",
    "    Melody = chords_n_notes(Music)\n",
    "    Melody_midi = stream.Stream(Melody)   \n",
    "    return Music,Melody_midi\n",
    "\n",
    "\n",
    "#getting the Notes and Melody created by the model\n",
    "Music_notes, Melody = Malody_Generator(100)"
   ]
  },
  {
   "cell_type": "code",
   "execution_count": 38,
   "id": "07646138",
   "metadata": {},
   "outputs": [
    {
     "data": {
      "text/html": [
       "\n",
       "                <audio  controls=\"controls\" >\n",
       "                    <source src=\"data:audio/mid;base64,TVRoZAAAAAYAAQACBABNVHJrAAAAFAD/UQMHoSAA/1gEBAIYCIgA/y8ATVRyawAABBkA/wMAAOAAQACQTFqIAIBMAACQSlqIAIBKAACQUFqIAIBQAACQU1qIAIBTAACQUVqIAIBRAACQUFqIAIBQAACQTlqIAIBOAACQTFqIAIBMAACQSlqIAIBKAACQRVoAkEVaAJA9WgCQRVoAkD1aAJBAWogAgEUAAIBFAACAPQAAgEUAAIA9AACAQAAAkElaiACASQAAkEVaAJBFWgCQPVoAkEVaAJA9WgCQQFqIAIBFAACARQAAgD0AAIBFAACAPQAAgEAAAJBMWogAgEwAAJBRWogAgFEAAJBQWogAgFAAAJBHWgCQR1oAkD5aAJBHWgCQPloAkEJaiACARwAAgEcAAIA+AACARwAAgD4AAIBCAACQTlqIAIBOAACQTFqIAIBMAACQSlqIAIBKAACQSVqIAIBJAACQR1qIAIBHAACQRVqIAIBFAACQRFqIAIBEAACQQlqIAIBCAACQQFqIAIBAAACQPlqIAIA+AACQPVqIAIA9AACQO1qIAIA7AACQSVqIAIBJAACQOVqIAIA5AACQPVoAkD1aAJA+WogAgD0AAIA9AACAPgAAkEBaiACAQAAAkEdaiACARwAAkElaiACASQAAkDtaiACAOwAAkEpaiACASgAAkEBaiACAQAAAkE5aiACATgAAkD1aiACAPQAAkExaiACATAAAkEBaiACAQAAAkEpaiACASgAAkDlaiACAOQAAkElaiACASQAAkEBaiACAQAAAkEdaiACARwAAkDhaiACAOAAAkEBaiACAQAAAkEZaiACARgAAkEdaiACARwAAkDlaiACAOQAAkElaiACASQAAkEBaiACAQAAAkExaiACATAAAkDtaiACAOwAAkEpaiACASgAAkEBaiACAQAAAkElaiACASQAAkDhaiACAOAAAkEdaiACARwAAkEBaiACAQAAAkERaiACARAAAkDZaiACANgAAkEVaiACARQAAkEBaiACAQAAAkEBaiACAQAAAkEdaiACARwAAkEBaiACAQAAAkEBaiACAQAAAkEJaiACAQgAAkFVaiACAVQAAkEpaiACASgAAkEBaiACAQAAAkElaiACASQAAkDRaiACANAAAkExaiACATAAAkDtaiACAOwAAkEBaiACAQAAAkD1aiACAPQAAkD1aiACAPQAAkEBaiACAQAAAkExaiACATAAAkDhaiACAOAAAkEBaiACAQAAAkEtaiACASwAAkElaiACASQAAkD1aiACAPQAAkEBaiACAQAAAkD1aiACAPQAAkD1aiACAPQAAkEBaiACAQAAAkD1aiACAPQAAkEVaiACARQAAkEBaiACAQAAAkD5aiACAPgAAkD1aiACAPQAAkD1aiACAPQAAkEBaiACAQAAAkEZaiACARgAAkDhaiACAOACIAP8vAA==\" type=\"audio/mid\" />\n",
       "                    Your browser does not support the audio element.\n",
       "                </audio>\n",
       "              "
      ],
      "text/plain": [
       "<IPython.lib.display.Audio object>"
      ]
     },
     "execution_count": 38,
     "metadata": {},
     "output_type": "execute_result"
    }
   ],
   "source": [
    "#save the generated melody\n",
    "Melody.write('midi','./output/Gen1.mid')\n",
    "\n",
    "#play audio\n",
    "IPython.display.Audio(\"./output/Gen1.mid\")"
   ]
  },
  {
   "cell_type": "code",
   "execution_count": null,
   "id": "ef4d957a",
   "metadata": {},
   "outputs": [],
   "source": []
  }
 ],
 "metadata": {
  "kernelspec": {
   "display_name": "Python 3",
   "language": "python",
   "name": "python3"
  },
  "language_info": {
   "codemirror_mode": {
    "name": "ipython",
    "version": 3
   },
   "file_extension": ".py",
   "mimetype": "text/x-python",
   "name": "python",
   "nbconvert_exporter": "python",
   "pygments_lexer": "ipython3",
   "version": "3.8.8"
  }
 },
 "nbformat": 4,
 "nbformat_minor": 5
}
